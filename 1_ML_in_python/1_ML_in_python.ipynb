{
 "cells": [
  {
   "cell_type": "markdown",
   "metadata": {},
   "source": [
    "# Tutorial 1: Introduction to Machine Learning with Python\n",
    "\n",
    "The goal of this tutorial is to introduce a typical workflow in carrying out ML in Python. This includes, \n",
    "\n",
    "1. accessing and organising data,\n",
    "\n",
    "2. assessing the data,\n",
    "\n",
    "3. visualising the data,\n",
    "\n",
    "4. a) creating training, b) test datasets and c) learning a model using them and evaluating its performance. "
   ]
  },
  {
   "cell_type": "code",
   "execution_count": null,
   "metadata": {
    "collapsed": true
   },
   "outputs": [],
   "source": [
    "import numpy as np\n",
    "import pandas\n",
    "\n",
    "from matplotlib import pyplot as plt\n",
    "\n",
    "%matplotlib inline\n",
    "\n",
    "# Set the default figure size.\n",
    "plt.rcParams[\"figure.figsize\"] = (10, 8)"
   ]
  },
  {
   "cell_type": "markdown",
   "metadata": {},
   "source": [
    "## 1) Load Data \n",
    "\n",
    "Here, we shall load the Iris dataset from a publically available source. \n",
    "\n",
    "This dataset consists of 150 samples of 3 classes of iris plants; each datapoint consists of 4 attributes, the 'sepal-length', 'sepal-width', 'petal-length' and'petal-width'. \n",
    "\n",
    "Once the data has been downloaded, we can organise them into their classes."
   ]
  },
  {
   "cell_type": "code",
   "execution_count": null,
   "metadata": {},
   "outputs": [],
   "source": [
    "url = \"https://raw.githubusercontent.com/jbrownlee/Datasets/master/iris.csv\"\n",
    "\n",
    "# if loading from web doesn't work, this file is already stored in the repository. Uncomment following if necessary.\n",
    "# url = \"./iris.csv\"\n",
    "\n",
    "column_names = [\"sepal-length\", \"sepal-width\", \"petal-length\", \"petal-width\", \"class\"]\n",
    "class_names = [\"Iris-setosa\", \"Iris-versicolor\", \"Iris-virginica\"]\n",
    "\n",
    "raw_dataset = pandas.read_csv(url, names=column_names)\n",
    "\n",
    "# print the raw dataset\n",
    "print(raw_dataset)\n",
    "\n",
    "# Organise data by class\n",
    "dataset = raw_dataset.groupby('class')"
   ]
  },
  {
   "cell_type": "markdown",
   "metadata": {},
   "source": [
    "## 2) Statistics of the dataset\n",
    "\n",
    "Pandas has some convenience methods that allow us to easily calculate statistical properties of a dataset."
   ]
  },
  {
   "cell_type": "code",
   "execution_count": null,
   "metadata": {},
   "outputs": [],
   "source": [
    "# Calculate the mean of each attribute. E.g\n",
    "\n",
    "dataset.mean()"
   ]
  },
  {
   "cell_type": "code",
   "execution_count": null,
   "metadata": {},
   "outputs": [],
   "source": [
    "# Calculate the standard deviation of each attribute\n",
    "\n"
   ]
  },
  {
   "cell_type": "code",
   "execution_count": null,
   "metadata": {},
   "outputs": [],
   "source": [
    "# Show the minimum of each attribute\n",
    "\n"
   ]
  },
  {
   "cell_type": "code",
   "execution_count": null,
   "metadata": {},
   "outputs": [],
   "source": [
    "# Show the maximum of each attribute\n",
    "\n"
   ]
  },
  {
   "cell_type": "markdown",
   "metadata": {},
   "source": [
    "## 3) Visualise the dataset\n",
    "\n",
    "Pandas has some convenience functions that allow us to easily visualise our dataset.\n",
    "\n",
    "[This is the documentation for the basic plotting tools available in Pandas.](https://pandas.pydata.org/pandas-docs/stable/user_guide/visualization.html)"
   ]
  },
  {
   "cell_type": "code",
   "execution_count": null,
   "metadata": {},
   "outputs": [],
   "source": [
    "# Try some of them here. \n",
    "# For example, try to plot scatter graphs for the Iris-setosa class:\n",
    "\n"
   ]
  },
  {
   "cell_type": "markdown",
   "metadata": {},
   "source": [
    "## 4) Classification using Least Squares\n",
    "\n",
    "Here we will be carrying out classification using the least squares formulation on 2 classes of the dataset. \n",
    "\n",
    "a) Create separate datasets for the classes 'Iris-setosa' and 'Iris-versicolor'."
   ]
  },
  {
   "cell_type": "code",
   "execution_count": null,
   "metadata": {
    "collapsed": true
   },
   "outputs": [],
   "source": [
    "setosa = dataset.get_group(\"Iris-setosa\").dropna()\n",
    "versicolor = dataset.get_group(\"Iris-versicolor\").dropna()"
   ]
  },
  {
   "cell_type": "markdown",
   "metadata": {},
   "source": [
    "b) create an output vector $Y^k$, for each class, where $y_i^k = 1$ if $k = $'Iris-setosa' and $-1$ otherwise."
   ]
  },
  {
   "cell_type": "code",
   "execution_count": null,
   "metadata": {
    "collapsed": true
   },
   "outputs": [],
   "source": [
    "# Insert code here to update 'setosa' and 'versicolor' DataFrames to include an extra column 'output'.\n",
    "\n",
    "\n",
    "assert setosa.shape == (50, 5)\n",
    "assert versicolor.shape == (50, 5)"
   ]
  },
  {
   "cell_type": "markdown",
   "metadata": {},
   "source": [
    "c) create training and test datasets, with 20% of the data for testing (80 training points and 20 testing points). "
   ]
  },
  {
   "cell_type": "code",
   "execution_count": null,
   "metadata": {
    "collapsed": true
   },
   "outputs": [],
   "source": [
    "# Make sure that data from each class is equally distributed.\n",
    "# Create 'training_data' and 'test_data' DataFrames that contain the appropriate number of samples from each class.\n",
    "\n",
    "assert training_data.shape == (80, 5)\n",
    "assert test_data.shape == (20, 5)"
   ]
  },
  {
   "cell_type": "markdown",
   "metadata": {},
   "source": [
    "d) apply the least squares solution to obtain an optimal solution for different combinations of the 4 available attributes."
   ]
  },
  {
   "cell_type": "code",
   "execution_count": null,
   "metadata": {
    "collapsed": true
   },
   "outputs": [],
   "source": [
    "# Create all possible combinations of attributes. \n",
    "from itertools import chain, combinations\n",
    "\n",
    "def all_combinations(attributes):\n",
    "    return chain(*map(lambda i: combinations(attributes, i), range(1, len(attributes)+1)))\n",
    "\n",
    "_attributes = [name for name in column_names if name != 'class']\n",
    "attribute_combinations = all_combinations(_attributes) #Note that this is an iterable object. \n",
    "\n",
    "# Complete the function that takes in a list of attributes, and outputs the predictions after carrying out least squares.\n",
    "def return_predictions(attributes, training_data=training_data, testing_data=test_data):    \n",
    "    \n",
    "    \n",
    "    return predictions"
   ]
  },
  {
   "cell_type": "markdown",
   "metadata": {},
   "source": [
    "e) evaluate which input attributes are the best."
   ]
  },
  {
   "cell_type": "code",
   "execution_count": null,
   "metadata": {},
   "outputs": [],
   "source": [
    "# Complete the function below that takes in a predictions vector, and outputs the mean squared error.\n",
    "def return_mse(predictions, testing_data=test_data):\n",
    "    \n",
    "    \n",
    "    return mse\n",
    "\n",
    "# evaluate\n",
    "for attributes in attribute_combinations:\n",
    "    preds = return_predictions(list(attributes))\n",
    "    print(f\"{str(attributes):<70} MSE: {return_mse(preds)}\")"
   ]
  }
 ],
 "metadata": {
  "kernelspec": {
   "display_name": "hda_msc_tutorials",
   "language": "python",
   "name": "hda_msc_tutorials"
  },
  "language_info": {
   "codemirror_mode": {
    "name": "ipython",
    "version": 3
   },
   "file_extension": ".py",
   "mimetype": "text/x-python",
   "name": "python",
   "nbconvert_exporter": "python",
   "pygments_lexer": "ipython3",
   "version": "3.6.3"
  }
 },
 "nbformat": 4,
 "nbformat_minor": 2
}
